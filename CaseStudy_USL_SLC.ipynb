{
 "cells": [
  {
   "cell_type": "code",
   "execution_count": 1,
   "id": "348fd8d1",
   "metadata": {},
   "outputs": [],
   "source": [
    "import numpy as np\n",
    "import pandas as pd\n",
    "import matplotlib.pyplot as plt\n",
    "import seaborn as sns\n"
   ]
  },
  {
   "cell_type": "code",
   "execution_count": 2,
   "id": "c1e526be",
   "metadata": {},
   "outputs": [
    {
     "name": "stderr",
     "output_type": "stream",
     "text": [
      "/var/folders/xg/13p0l1cs7b92jbsk5672zm6m0000gn/T/ipykernel_2759/234370030.py:1: DtypeWarning: Columns (15,16,17,18,22) have mixed types. Specify dtype option on import or set low_memory=False.\n",
      "  df = pd.read_csv('./the weather of 187 countries in 2020.csv')\n"
     ]
    }
   ],
   "source": [
    "df = pd.read_csv('./the weather of 187 countries in 2020.csv')"
   ]
  },
  {
   "cell_type": "code",
   "execution_count": 8,
   "id": "d6bd5bb3",
   "metadata": {},
   "outputs": [
    {
     "data": {
      "text/html": [
       "<div>\n",
       "<style scoped>\n",
       "    .dataframe tbody tr th:only-of-type {\n",
       "        vertical-align: middle;\n",
       "    }\n",
       "\n",
       "    .dataframe tbody tr th {\n",
       "        vertical-align: top;\n",
       "    }\n",
       "\n",
       "    .dataframe thead th {\n",
       "        text-align: right;\n",
       "    }\n",
       "</style>\n",
       "<table border=\"1\" class=\"dataframe\">\n",
       "  <thead>\n",
       "    <tr style=\"text-align: right;\">\n",
       "      <th></th>\n",
       "      <th>STATION</th>\n",
       "      <th>Country/Region</th>\n",
       "      <th>DATE</th>\n",
       "      <th>Year</th>\n",
       "      <th>Month</th>\n",
       "      <th>Day</th>\n",
       "      <th>PRCP</th>\n",
       "      <th>SNWD</th>\n",
       "      <th>TAVG</th>\n",
       "      <th>TMAX</th>\n",
       "      <th>...</th>\n",
       "      <th>LONGITUDE</th>\n",
       "      <th>ELEVATION</th>\n",
       "      <th>PRCP_ATTRIBUTES</th>\n",
       "      <th>TAVG_ATTRIBUTES</th>\n",
       "      <th>TMAX_ATTRIBUTES</th>\n",
       "      <th>TMIN_ATTRIBUTES</th>\n",
       "      <th>DAPR</th>\n",
       "      <th>MDPR</th>\n",
       "      <th>WESD</th>\n",
       "      <th>SNWD_ATTRIBUTES</th>\n",
       "    </tr>\n",
       "  </thead>\n",
       "  <tbody>\n",
       "    <tr>\n",
       "      <th>0</th>\n",
       "      <td>TZ000063894</td>\n",
       "      <td>Comoros</td>\n",
       "      <td>2020-01-22</td>\n",
       "      <td>2020</td>\n",
       "      <td>1</td>\n",
       "      <td>22</td>\n",
       "      <td>10.9</td>\n",
       "      <td>NaN</td>\n",
       "      <td>27.6</td>\n",
       "      <td>30.2</td>\n",
       "      <td>...</td>\n",
       "      <td>NaN</td>\n",
       "      <td>NaN</td>\n",
       "      <td>NaN</td>\n",
       "      <td>NaN</td>\n",
       "      <td>NaN</td>\n",
       "      <td>NaN</td>\n",
       "      <td>NaN</td>\n",
       "      <td>NaN</td>\n",
       "      <td>NaN</td>\n",
       "      <td>NaN</td>\n",
       "    </tr>\n",
       "    <tr>\n",
       "      <th>1</th>\n",
       "      <td>TZ000063894</td>\n",
       "      <td>Comoros</td>\n",
       "      <td>2020-01-23</td>\n",
       "      <td>2020</td>\n",
       "      <td>1</td>\n",
       "      <td>23</td>\n",
       "      <td>0.0</td>\n",
       "      <td>NaN</td>\n",
       "      <td>26.7</td>\n",
       "      <td>NaN</td>\n",
       "      <td>...</td>\n",
       "      <td>NaN</td>\n",
       "      <td>NaN</td>\n",
       "      <td>NaN</td>\n",
       "      <td>NaN</td>\n",
       "      <td>NaN</td>\n",
       "      <td>NaN</td>\n",
       "      <td>NaN</td>\n",
       "      <td>NaN</td>\n",
       "      <td>NaN</td>\n",
       "      <td>NaN</td>\n",
       "    </tr>\n",
       "  </tbody>\n",
       "</table>\n",
       "<p>2 rows × 23 columns</p>\n",
       "</div>"
      ],
      "text/plain": [
       "       STATION Country/Region        DATE  Year  Month  Day  PRCP  SNWD  TAVG  \\\n",
       "0  TZ000063894        Comoros  2020-01-22  2020      1   22  10.9   NaN  27.6   \n",
       "1  TZ000063894        Comoros  2020-01-23  2020      1   23   0.0   NaN  26.7   \n",
       "\n",
       "   TMAX  ...  LONGITUDE  ELEVATION  PRCP_ATTRIBUTES  TAVG_ATTRIBUTES  \\\n",
       "0  30.2  ...        NaN        NaN              NaN              NaN   \n",
       "1   NaN  ...        NaN        NaN              NaN              NaN   \n",
       "\n",
       "   TMAX_ATTRIBUTES TMIN_ATTRIBUTES DAPR MDPR WESD  SNWD_ATTRIBUTES  \n",
       "0              NaN             NaN  NaN  NaN  NaN              NaN  \n",
       "1              NaN             NaN  NaN  NaN  NaN              NaN  \n",
       "\n",
       "[2 rows x 23 columns]"
      ]
     },
     "execution_count": 8,
     "metadata": {},
     "output_type": "execute_result"
    }
   ],
   "source": [
    "df.head(2)"
   ]
  },
  {
   "cell_type": "code",
   "execution_count": 9,
   "id": "ee9f3103",
   "metadata": {},
   "outputs": [
    {
     "data": {
      "text/plain": [
       "(1048575, 23)"
      ]
     },
     "execution_count": 9,
     "metadata": {},
     "output_type": "execute_result"
    }
   ],
   "source": [
    "df.shape"
   ]
  },
  {
   "cell_type": "code",
   "execution_count": 10,
   "id": "e1e20db0",
   "metadata": {},
   "outputs": [
    {
     "name": "stdout",
     "output_type": "stream",
     "text": [
      "<class 'pandas.core.frame.DataFrame'>\n",
      "RangeIndex: 1048575 entries, 0 to 1048574\n",
      "Data columns (total 23 columns):\n",
      " #   Column           Non-Null Count    Dtype  \n",
      "---  ------           --------------    -----  \n",
      " 0   STATION          1048575 non-null  object \n",
      " 1   Country/Region   1048575 non-null  object \n",
      " 2   DATE             1048575 non-null  object \n",
      " 3   Year             1048575 non-null  int64  \n",
      " 4   Month            1048575 non-null  int64  \n",
      " 5   Day              1048575 non-null  int64  \n",
      " 6   PRCP             738462 non-null   float64\n",
      " 7   SNWD             214352 non-null   float64\n",
      " 8   TAVG             812229 non-null   float64\n",
      " 9   TMAX             666841 non-null   float64\n",
      " 10  TMIN             694366 non-null   float64\n",
      " 11  SNOW             103991 non-null   float64\n",
      " 12  LATITUDE         102307 non-null   float64\n",
      " 13  LONGITUDE        102307 non-null   float64\n",
      " 14  ELEVATION        102307 non-null   float64\n",
      " 15  PRCP_ATTRIBUTES  6007 non-null     object \n",
      " 16  TAVG_ATTRIBUTES  3850 non-null     object \n",
      " 17  TMAX_ATTRIBUTES  5637 non-null     object \n",
      " 18  TMIN_ATTRIBUTES  5874 non-null     object \n",
      " 19  DAPR             1263 non-null     float64\n",
      " 20  MDPR             81 non-null       float64\n",
      " 21  WESD             2 non-null        float64\n",
      " 22  SNWD_ATTRIBUTES  354 non-null      object \n",
      "dtypes: float64(12), int64(3), object(8)\n",
      "memory usage: 184.0+ MB\n"
     ]
    }
   ],
   "source": [
    "df.info()"
   ]
  },
  {
   "cell_type": "code",
   "execution_count": 11,
   "id": "bc29f85f",
   "metadata": {},
   "outputs": [
    {
     "data": {
      "text/plain": [
       "(1048575, 8)"
      ]
     },
     "execution_count": 11,
     "metadata": {},
     "output_type": "execute_result"
    }
   ],
   "source": [
    "df.select_dtypes(include='object').shape"
   ]
  },
  {
   "cell_type": "code",
   "execution_count": 12,
   "id": "db9ca467",
   "metadata": {},
   "outputs": [
    {
     "data": {
      "text/html": [
       "<div>\n",
       "<style scoped>\n",
       "    .dataframe tbody tr th:only-of-type {\n",
       "        vertical-align: middle;\n",
       "    }\n",
       "\n",
       "    .dataframe tbody tr th {\n",
       "        vertical-align: top;\n",
       "    }\n",
       "\n",
       "    .dataframe thead th {\n",
       "        text-align: right;\n",
       "    }\n",
       "</style>\n",
       "<table border=\"1\" class=\"dataframe\">\n",
       "  <thead>\n",
       "    <tr style=\"text-align: right;\">\n",
       "      <th></th>\n",
       "      <th>Year</th>\n",
       "      <th>Month</th>\n",
       "      <th>Day</th>\n",
       "      <th>PRCP</th>\n",
       "      <th>SNWD</th>\n",
       "      <th>TAVG</th>\n",
       "      <th>TMAX</th>\n",
       "      <th>TMIN</th>\n",
       "      <th>SNOW</th>\n",
       "      <th>LATITUDE</th>\n",
       "      <th>LONGITUDE</th>\n",
       "      <th>ELEVATION</th>\n",
       "      <th>DAPR</th>\n",
       "      <th>MDPR</th>\n",
       "      <th>WESD</th>\n",
       "    </tr>\n",
       "  </thead>\n",
       "  <tbody>\n",
       "    <tr>\n",
       "      <th>count</th>\n",
       "      <td>1048575.0</td>\n",
       "      <td>1.048575e+06</td>\n",
       "      <td>1.048575e+06</td>\n",
       "      <td>738462.000000</td>\n",
       "      <td>214352.000000</td>\n",
       "      <td>812229.000000</td>\n",
       "      <td>666841.000000</td>\n",
       "      <td>694366.000000</td>\n",
       "      <td>103991.000000</td>\n",
       "      <td>102307.000000</td>\n",
       "      <td>102307.000000</td>\n",
       "      <td>102307.000000</td>\n",
       "      <td>1263.00000</td>\n",
       "      <td>81.000000</td>\n",
       "      <td>2.000000</td>\n",
       "    </tr>\n",
       "    <tr>\n",
       "      <th>mean</th>\n",
       "      <td>2020.0</td>\n",
       "      <td>4.270095e+00</td>\n",
       "      <td>1.591403e+01</td>\n",
       "      <td>2.677177</td>\n",
       "      <td>152.121545</td>\n",
       "      <td>14.514089</td>\n",
       "      <td>17.819442</td>\n",
       "      <td>7.332128</td>\n",
       "      <td>3.793184</td>\n",
       "      <td>37.785974</td>\n",
       "      <td>73.215435</td>\n",
       "      <td>797.540204</td>\n",
       "      <td>5.33175</td>\n",
       "      <td>0.958025</td>\n",
       "      <td>0.050000</td>\n",
       "    </tr>\n",
       "    <tr>\n",
       "      <th>std</th>\n",
       "      <td>0.0</td>\n",
       "      <td>1.809264e+00</td>\n",
       "      <td>8.764939e+00</td>\n",
       "      <td>8.732044</td>\n",
       "      <td>301.262503</td>\n",
       "      <td>13.266343</td>\n",
       "      <td>13.493080</td>\n",
       "      <td>13.154970</td>\n",
       "      <td>19.216583</td>\n",
       "      <td>11.690114</td>\n",
       "      <td>71.593997</td>\n",
       "      <td>1103.566712</td>\n",
       "      <td>7.19394</td>\n",
       "      <td>1.653137</td>\n",
       "      <td>0.070711</td>\n",
       "    </tr>\n",
       "    <tr>\n",
       "      <th>min</th>\n",
       "      <td>2020.0</td>\n",
       "      <td>1.000000e+00</td>\n",
       "      <td>1.000000e+00</td>\n",
       "      <td>0.000000</td>\n",
       "      <td>0.000000</td>\n",
       "      <td>-56.200000</td>\n",
       "      <td>-55.000000</td>\n",
       "      <td>-65.000000</td>\n",
       "      <td>0.000000</td>\n",
       "      <td>-17.817000</td>\n",
       "      <td>-140.850000</td>\n",
       "      <td>0.600000</td>\n",
       "      <td>1.00000</td>\n",
       "      <td>0.000000</td>\n",
       "      <td>0.000000</td>\n",
       "    </tr>\n",
       "    <tr>\n",
       "      <th>25%</th>\n",
       "      <td>2020.0</td>\n",
       "      <td>3.000000e+00</td>\n",
       "      <td>8.000000e+00</td>\n",
       "      <td>0.000000</td>\n",
       "      <td>0.000000</td>\n",
       "      <td>6.111111</td>\n",
       "      <td>8.400000</td>\n",
       "      <td>-0.500000</td>\n",
       "      <td>0.000000</td>\n",
       "      <td>30.533000</td>\n",
       "      <td>80.083000</td>\n",
       "      <td>68.000000</td>\n",
       "      <td>2.00000</td>\n",
       "      <td>0.000000</td>\n",
       "      <td>0.025000</td>\n",
       "    </tr>\n",
       "    <tr>\n",
       "      <th>50%</th>\n",
       "      <td>2020.0</td>\n",
       "      <td>4.000000e+00</td>\n",
       "      <td>1.600000e+01</td>\n",
       "      <td>0.000000</td>\n",
       "      <td>0.000000</td>\n",
       "      <td>16.600000</td>\n",
       "      <td>19.400000</td>\n",
       "      <td>8.500000</td>\n",
       "      <td>0.000000</td>\n",
       "      <td>38.233000</td>\n",
       "      <td>105.183000</td>\n",
       "      <td>266.000000</td>\n",
       "      <td>3.00000</td>\n",
       "      <td>0.280000</td>\n",
       "      <td>0.050000</td>\n",
       "    </tr>\n",
       "    <tr>\n",
       "      <th>75%</th>\n",
       "      <td>2020.0</td>\n",
       "      <td>6.000000e+00</td>\n",
       "      <td>2.400000e+01</td>\n",
       "      <td>1.400000</td>\n",
       "      <td>221.000000</td>\n",
       "      <td>25.555556</td>\n",
       "      <td>28.800000</td>\n",
       "      <td>17.200000</td>\n",
       "      <td>0.000000</td>\n",
       "      <td>45.283000</td>\n",
       "      <td>116.333000</td>\n",
       "      <td>1099.000000</td>\n",
       "      <td>5.00000</td>\n",
       "      <td>1.510000</td>\n",
       "      <td>0.075000</td>\n",
       "    </tr>\n",
       "    <tr>\n",
       "      <th>max</th>\n",
       "      <td>2020.0</td>\n",
       "      <td>7.000000e+00</td>\n",
       "      <td>3.100000e+01</td>\n",
       "      <td>447.000000</td>\n",
       "      <td>52900.000000</td>\n",
       "      <td>42.900000</td>\n",
       "      <td>51.200000</td>\n",
       "      <td>36.700000</td>\n",
       "      <td>625.000000</td>\n",
       "      <td>82.500000</td>\n",
       "      <td>131.983000</td>\n",
       "      <td>4701.000000</td>\n",
       "      <td>61.00000</td>\n",
       "      <td>9.240000</td>\n",
       "      <td>0.100000</td>\n",
       "    </tr>\n",
       "  </tbody>\n",
       "</table>\n",
       "</div>"
      ],
      "text/plain": [
       "            Year         Month           Day           PRCP           SNWD  \\\n",
       "count  1048575.0  1.048575e+06  1.048575e+06  738462.000000  214352.000000   \n",
       "mean      2020.0  4.270095e+00  1.591403e+01       2.677177     152.121545   \n",
       "std          0.0  1.809264e+00  8.764939e+00       8.732044     301.262503   \n",
       "min       2020.0  1.000000e+00  1.000000e+00       0.000000       0.000000   \n",
       "25%       2020.0  3.000000e+00  8.000000e+00       0.000000       0.000000   \n",
       "50%       2020.0  4.000000e+00  1.600000e+01       0.000000       0.000000   \n",
       "75%       2020.0  6.000000e+00  2.400000e+01       1.400000     221.000000   \n",
       "max       2020.0  7.000000e+00  3.100000e+01     447.000000   52900.000000   \n",
       "\n",
       "                TAVG           TMAX           TMIN           SNOW  \\\n",
       "count  812229.000000  666841.000000  694366.000000  103991.000000   \n",
       "mean       14.514089      17.819442       7.332128       3.793184   \n",
       "std        13.266343      13.493080      13.154970      19.216583   \n",
       "min       -56.200000     -55.000000     -65.000000       0.000000   \n",
       "25%         6.111111       8.400000      -0.500000       0.000000   \n",
       "50%        16.600000      19.400000       8.500000       0.000000   \n",
       "75%        25.555556      28.800000      17.200000       0.000000   \n",
       "max        42.900000      51.200000      36.700000     625.000000   \n",
       "\n",
       "            LATITUDE      LONGITUDE      ELEVATION        DAPR       MDPR  \\\n",
       "count  102307.000000  102307.000000  102307.000000  1263.00000  81.000000   \n",
       "mean       37.785974      73.215435     797.540204     5.33175   0.958025   \n",
       "std        11.690114      71.593997    1103.566712     7.19394   1.653137   \n",
       "min       -17.817000    -140.850000       0.600000     1.00000   0.000000   \n",
       "25%        30.533000      80.083000      68.000000     2.00000   0.000000   \n",
       "50%        38.233000     105.183000     266.000000     3.00000   0.280000   \n",
       "75%        45.283000     116.333000    1099.000000     5.00000   1.510000   \n",
       "max        82.500000     131.983000    4701.000000    61.00000   9.240000   \n",
       "\n",
       "           WESD  \n",
       "count  2.000000  \n",
       "mean   0.050000  \n",
       "std    0.070711  \n",
       "min    0.000000  \n",
       "25%    0.025000  \n",
       "50%    0.050000  \n",
       "75%    0.075000  \n",
       "max    0.100000  "
      ]
     },
     "execution_count": 12,
     "metadata": {},
     "output_type": "execute_result"
    }
   ],
   "source": [
    "df.describe()"
   ]
  },
  {
   "cell_type": "code",
   "execution_count": 13,
   "id": "7c7ea351",
   "metadata": {},
   "outputs": [
    {
     "data": {
      "text/plain": [
       "STATION             0.000000\n",
       "Country/Region      0.000000\n",
       "DATE                0.000000\n",
       "Year                0.000000\n",
       "Month               0.000000\n",
       "Day                 0.000000\n",
       "PRCP               29.574709\n",
       "SNWD               79.557781\n",
       "TAVG               22.539732\n",
       "TMAX               36.405026\n",
       "TMIN               33.780035\n",
       "SNOW               90.082636\n",
       "LATITUDE           90.243235\n",
       "LONGITUDE          90.243235\n",
       "ELEVATION          90.243235\n",
       "PRCP_ATTRIBUTES    99.427127\n",
       "TAVG_ATTRIBUTES    99.632835\n",
       "TMAX_ATTRIBUTES    99.462413\n",
       "TMIN_ATTRIBUTES    99.439811\n",
       "DAPR               99.879551\n",
       "MDPR               99.992275\n",
       "WESD               99.999809\n",
       "SNWD_ATTRIBUTES    99.966240\n",
       "dtype: float64"
      ]
     },
     "execution_count": 13,
     "metadata": {},
     "output_type": "execute_result"
    }
   ],
   "source": [
    "# missing values check\n",
    "\n",
    "df.isnull().sum()/len(df)*100"
   ]
  },
  {
   "cell_type": "code",
   "execution_count": 14,
   "id": "e4bafeb6",
   "metadata": {},
   "outputs": [],
   "source": [
    "# handling missing values."
   ]
  },
  {
   "cell_type": "code",
   "execution_count": 15,
   "id": "5178446e",
   "metadata": {},
   "outputs": [],
   "source": [
    "# As we can see there are 99% of missing values in SNWD_ATTRIBUTES, WESD, MDPR, DAPR,TMIN_ATTRIBUTES,TAVG_ATTRIBUTES\n",
    "# PRCP_ATTRIBUTES\n",
    "\n",
    "# Also 90% of missing values in ELEVATION, LONGITUDE, LATITUDE, SNOW\n",
    "# hence we drop these columns."
   ]
  },
  {
   "cell_type": "code",
   "execution_count": 16,
   "id": "3152da8f",
   "metadata": {},
   "outputs": [
    {
     "data": {
      "text/plain": [
       "Index(['STATION', 'Country/Region', 'DATE', 'Year', 'Month', 'Day', 'PRCP',\n",
       "       'SNWD', 'TAVG', 'TMAX', 'TMIN', 'SNOW', 'LATITUDE', 'LONGITUDE',\n",
       "       'ELEVATION', 'PRCP_ATTRIBUTES', 'TAVG_ATTRIBUTES', 'TMAX_ATTRIBUTES',\n",
       "       'TMIN_ATTRIBUTES', 'DAPR', 'MDPR', 'WESD', 'SNWD_ATTRIBUTES'],\n",
       "      dtype='object')"
      ]
     },
     "execution_count": 16,
     "metadata": {},
     "output_type": "execute_result"
    }
   ],
   "source": [
    "df.columns"
   ]
  },
  {
   "cell_type": "code",
   "execution_count": 3,
   "id": "61f63f6c",
   "metadata": {},
   "outputs": [],
   "source": [
    "df.drop(['SNWD_ATTRIBUTES', 'WESD','MDPR','DAPR','TMIN_ATTRIBUTES', 'TMAX_ATTRIBUTES','TAVG_ATTRIBUTES','PRCP_ATTRIBUTES', 'ELEVATION',\n",
    "         'LONGITUDE', 'LATITUDE','SNOW'], axis=1, inplace=True)"
   ]
  },
  {
   "cell_type": "code",
   "execution_count": 18,
   "id": "42f6b4b6",
   "metadata": {},
   "outputs": [],
   "source": [
    "# Now we have around 30% missing values in PRCP, TAVG, TMAX,TMIN\n",
    "# Now we impute it with the median value of these variabels."
   ]
  },
  {
   "cell_type": "code",
   "execution_count": 4,
   "id": "0befeb3d",
   "metadata": {},
   "outputs": [],
   "source": [
    "df['TMIN'].fillna(8.5, inplace=True)"
   ]
  },
  {
   "cell_type": "code",
   "execution_count": 5,
   "id": "d53ab458",
   "metadata": {},
   "outputs": [],
   "source": [
    "df['PRCP'].fillna(0.0, inplace=True)"
   ]
  },
  {
   "cell_type": "code",
   "execution_count": 6,
   "id": "06bd961e",
   "metadata": {},
   "outputs": [],
   "source": [
    "df['TAVG'].fillna(16.6, inplace=True)"
   ]
  },
  {
   "cell_type": "code",
   "execution_count": 7,
   "id": "4e0b0b6e",
   "metadata": {},
   "outputs": [],
   "source": [
    "df['TMAX'].fillna(19.4, inplace=True)\n"
   ]
  },
  {
   "cell_type": "code",
   "execution_count": 9,
   "id": "e8e4ee04",
   "metadata": {},
   "outputs": [],
   "source": []
  },
  {
   "cell_type": "code",
   "execution_count": 10,
   "id": "756b21fa",
   "metadata": {},
   "outputs": [
    {
     "data": {
      "text/plain": [
       "STATION           0\n",
       "Country/Region    0\n",
       "DATE              0\n",
       "Year              0\n",
       "Month             0\n",
       "Day               0\n",
       "PRCP              0\n",
       "TAVG              0\n",
       "TMAX              0\n",
       "TMIN              0\n",
       "dtype: int64"
      ]
     },
     "execution_count": 10,
     "metadata": {},
     "output_type": "execute_result"
    }
   ],
   "source": [
    "df.isnull().sum()\n",
    "# There is no missing values now"
   ]
  },
  {
   "cell_type": "code",
   "execution_count": 11,
   "id": "e85d886c",
   "metadata": {},
   "outputs": [
    {
     "data": {
      "text/plain": [
       "(1048575, 10)"
      ]
     },
     "execution_count": 11,
     "metadata": {},
     "output_type": "execute_result"
    }
   ],
   "source": [
    "df.shape"
   ]
  },
  {
   "cell_type": "code",
   "execution_count": 25,
   "id": "a3fa51e1",
   "metadata": {},
   "outputs": [],
   "source": [
    "# After treating the missing values we have 1million and 48 thousand five seventy five observations and 10 variables."
   ]
  },
  {
   "cell_type": "code",
   "execution_count": null,
   "id": "d6813394",
   "metadata": {},
   "outputs": [],
   "source": []
  },
  {
   "cell_type": "code",
   "execution_count": null,
   "id": "87a6c67a",
   "metadata": {},
   "outputs": [],
   "source": []
  },
  {
   "cell_type": "code",
   "execution_count": null,
   "id": "2fd839eb",
   "metadata": {},
   "outputs": [],
   "source": []
  },
  {
   "cell_type": "code",
   "execution_count": 12,
   "id": "b8533b9e",
   "metadata": {},
   "outputs": [
    {
     "data": {
      "text/plain": [
       "<AxesSubplot:>"
      ]
     },
     "execution_count": 12,
     "metadata": {},
     "output_type": "execute_result"
    },
    {
     "data": {
      "image/png": "[encoded data removed]",
      "text/plain": [
       "<Figure size 640x480 with 1 Axes>"
      ]
     },
     "metadata": {},
     "output_type": "display_data"
    }
   ],
   "source": [
    "# Univariate\n",
    "df.plot(kind='box')"
   ]
  },
  {
   "cell_type": "code",
   "execution_count": 27,
   "id": "d0523ca2",
   "metadata": {},
   "outputs": [],
   "source": [
    "# There are outliers present in the PRCP, TAVG, TMAX, TMIN values. \n",
    "# We will handle the outliers once we build the base model."
   ]
  },
  {
   "cell_type": "code",
   "execution_count": 28,
   "id": "eedfb406",
   "metadata": {},
   "outputs": [],
   "source": [
    "# lets separate the numerical and categorical data."
   ]
  },
  {
   "cell_type": "code",
   "execution_count": 13,
   "id": "a7d0b004",
   "metadata": {},
   "outputs": [],
   "source": [
    "num = df.select_dtypes(include=np.number)\n",
    "cat = df.select_dtypes(include='object')\n"
   ]
  },
  {
   "cell_type": "code",
   "execution_count": 30,
   "id": "baff1396",
   "metadata": {},
   "outputs": [],
   "source": [
    "# now lets handle the categorical data."
   ]
  },
  {
   "cell_type": "code",
   "execution_count": 31,
   "id": "dfa847ce",
   "metadata": {},
   "outputs": [],
   "source": [
    "# we are using dummy encoding"
   ]
  },
  {
   "cell_type": "code",
   "execution_count": 14,
   "id": "37c03708",
   "metadata": {},
   "outputs": [],
   "source": [
    "enc_cat = pd.get_dummies(cat, drop_first=True)\n",
    "# There are 3 categorical variables STATION, Country/Region, DATE"
   ]
  },
  {
   "cell_type": "code",
   "execution_count": 33,
   "id": "baf4b1a1",
   "metadata": {},
   "outputs": [],
   "source": [
    "# Now concatenate the cat data to numeric"
   ]
  },
  {
   "cell_type": "code",
   "execution_count": 15,
   "id": "2016febe",
   "metadata": {},
   "outputs": [],
   "source": [
    "df_n = pd.concat([num, enc_cat], axis=1)"
   ]
  },
  {
   "cell_type": "code",
   "execution_count": 16,
   "id": "1698c3a7",
   "metadata": {},
   "outputs": [
    {
     "data": {
      "text/plain": [
       "(1048575, 5499)"
      ]
     },
     "execution_count": 16,
     "metadata": {},
     "output_type": "execute_result"
    }
   ],
   "source": [
    "df_n.shape\n",
    "# after handling the cat data, we can see the rows and columns below."
   ]
  },
  {
   "cell_type": "code",
   "execution_count": 36,
   "id": "a99a60aa",
   "metadata": {},
   "outputs": [],
   "source": [
    "# separate the target variable and independent variable."
   ]
  },
  {
   "cell_type": "code",
   "execution_count": 17,
   "id": "f216a42b",
   "metadata": {},
   "outputs": [],
   "source": [
    "X = df_n.drop('TMAX', axis=1)\n",
    "y = df_n['TMAX']"
   ]
  },
  {
   "cell_type": "code",
   "execution_count": 38,
   "id": "c4fd5e2e",
   "metadata": {},
   "outputs": [],
   "source": [
    "# we perform the train test split"
   ]
  },
  {
   "cell_type": "code",
   "execution_count": 18,
   "id": "bf44f6de",
   "metadata": {},
   "outputs": [],
   "source": [
    "from sklearn.model_selection import train_test_split"
   ]
  },
  {
   "cell_type": "code",
   "execution_count": 19,
   "id": "cff83f39",
   "metadata": {},
   "outputs": [],
   "source": [
    "xtrain, xtest, ytrain, ytest = train_test_split(X,y, test_size=0.3, random_state=10)"
   ]
  },
  {
   "cell_type": "code",
   "execution_count": null,
   "id": "1822229c",
   "metadata": {},
   "outputs": [],
   "source": [
    "# Now we build the KNN model"
   ]
  },
  {
   "cell_type": "code",
   "execution_count": 20,
   "id": "3fd5e261",
   "metadata": {},
   "outputs": [],
   "source": [
    "from sklearn.neighbors import KNeighborsRegressor"
   ]
  },
  {
   "cell_type": "code",
   "execution_count": 21,
   "id": "d17daac0",
   "metadata": {},
   "outputs": [],
   "source": [
    "knn = KNeighborsRegressor()"
   ]
  },
  {
   "cell_type": "code",
   "execution_count": 22,
   "id": "e89f5a6a",
   "metadata": {},
   "outputs": [],
   "source": [
    "knn_model = knn.fit(xtrain, ytrain)"
   ]
  },
  {
   "cell_type": "code",
   "execution_count": 2,
   "id": "5aa91b99",
   "metadata": {},
   "outputs": [],
   "source": [
    "y_pred = knn_model.predict(xtest)"
   ]
  },
  {
   "cell_type": "code",
   "execution_count": null,
   "id": "0f1f8b1b",
   "metadata": {},
   "outputs": [],
   "source": [
    "y_pred"
   ]
  },
  {
   "cell_type": "code",
   "execution_count": null,
   "id": "8a1186f1",
   "metadata": {},
   "outputs": [],
   "source": []
  },
  {
   "cell_type": "code",
   "execution_count": null,
   "id": "46290b73",
   "metadata": {},
   "outputs": [],
   "source": []
  },
  {
   "cell_type": "code",
   "execution_count": null,
   "id": "b5a59291",
   "metadata": {},
   "outputs": [],
   "source": []
  },
  {
   "cell_type": "code",
   "execution_count": null,
   "id": "4365ec10",
   "metadata": {},
   "outputs": [],
   "source": []
  },
  {
   "cell_type": "code",
   "execution_count": null,
   "id": "115700e7",
   "metadata": {},
   "outputs": [],
   "source": []
  },
  {
   "cell_type": "code",
   "execution_count": null,
   "id": "e9eacfb0",
   "metadata": {},
   "outputs": [],
   "source": []
  },
  {
   "cell_type": "code",
   "execution_count": null,
   "id": "cf24ff80",
   "metadata": {},
   "outputs": [],
   "source": []
  }
 ],
 "metadata": {
  "kernelspec": {
   "display_name": "Python 3 (ipykernel)",
   "language": "python",
   "name": "python3"
  },
  "language_info": {
   "codemirror_mode": {
    "name": "ipython",
    "version": 3
   },
   "file_extension": ".py",
   "mimetype": "text/x-python",
   "name": "python",
   "nbconvert_exporter": "python",
   "pygments_lexer": "ipython3",
   "version": "3.9.13"
  }
 },
 "nbformat": 4,
 "nbformat_minor": 5
}
